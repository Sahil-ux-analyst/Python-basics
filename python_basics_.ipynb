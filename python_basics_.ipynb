{
  "nbformat": 4,
  "nbformat_minor": 0,
  "metadata": {
    "colab": {
      "provenance": []
    },
    "kernelspec": {
      "name": "python3",
      "display_name": "Python 3"
    },
    "language_info": {
      "name": "python"
    }
  },
  "cells": [
    {
      "cell_type": "markdown",
      "source": [
        "# Assignment - 1\n",
        "PYTHON BASICS"
      ],
      "metadata": {
        "id": "66DZonxGALEV"
      }
    },
    {
      "cell_type": "markdown",
      "source": [
        "  1.  What is Python, and why is it popular ?\n",
        "  -> Python is a high level interpreted programming language known for its readability and versatality.\n",
        "     It is popular because it is easy to understand and it has simple syntax vast libraries and frameworks also and its wide applicability in various fields like web development, data science , machine learning.\n",
        "\n",
        "\n",
        "\n",
        "  2.  What is an interpreter in Python ?\n",
        "  ->  An Interpreter is a program that converts the code a developer writes into an intermediate language, called the byte code. It converts the code line by line, one at a time. It translates till the end and stops at that line where an error occurs, if any, making the debugging process easy.\n",
        "\n",
        "\n",
        "\n",
        "  3.  What are pre-defined keywords in Python ?\n",
        "  ->  Python has a set of keywords that are reserved words that cannot be used as variable names, function names, or any other identifiers. e.g and, is.\n",
        "\n",
        "\n",
        "\n",
        "  4.  Can keywords be used as variable names ?\n",
        "  ->  No keywords can not be used as variables names.keywords are reserved words in a programming language that have predefined meanings and are used to define the language's syntax.\n",
        "\n",
        "\n",
        "\n",
        "  5.  What is mutability in Python ?\n",
        "  ->  In python, mutability refers to the ability of an object to be modified after it has been created.\n",
        "\n",
        "\n",
        "\n",
        "  6.  Why are lists mutable, but tuples are immutable ?\n",
        "  -> Tuples are immutable because - Tuples use parentheses instead of sqaure brackets and items in tuples cannot be modified while lists are mutable because one can modify that list by adding, removing or by changing the elements.\n",
        "\n",
        "\n",
        "\n",
        "   7.  What is the difference between “==” and “is” operators in Python /\n",
        "  ->   The \"==\" operator checks for equality of values which means it evaluates whether the values of two objects are the same. On the other hand, is operator checks for identity, meaning it determines whether two variables point to the same object in memory.\n",
        "\n",
        "\n",
        "  \n",
        "\n",
        "   8.  What are logical operators in Python ?\n",
        "   ->  logical operators in python are used to combine conditional statements and evaluate the truthiness of expreesions, returning a boolean value.\n",
        "    (true or false) there are three primary logical operators:\n",
        "       1. and operator - returns true if at least one statement is true.\n",
        "                        - returns false if one statements are false.\n",
        "\n",
        "       2. or operator - returns true if at least one statement is true.\n",
        "                      - returns false if both statements are false.\n",
        "\n",
        "       3. not operator - returns the inverse boolean value of the statement.\n",
        "\n",
        "\n",
        "\n",
        "\n",
        "\n",
        "   9.  What is type casting in Python ?\n",
        "   ->  type casting in python is the process of manually converting a value from one data type to another using built-in functions. it is done wehn a programmer needs specific data type for a variable to perform certain operations.\n",
        "\n",
        "\n",
        "\n",
        "\n",
        "   10. What is the difference between implicit and explicit type casting ?\n",
        "   -> implicit type casting:\n",
        "      def'n - implicit casting happens automatically when a smaller data type is converted to a larger data type without the programmer's intervention.\n",
        "       - explicit type casting:\n",
        "       def'n - explicit type casting is a process when programmer manually converts a data type to another data type using a cast operator.\n",
        "\n",
        "\n",
        "\n",
        "\n",
        "   11.  What is the purpose of conditional statements in Python ?\n",
        "   ->   the purpose of conditional statements in python is to enable decision making and control the flow of program execution based on specific conditions. They allow us to execute diff.blocks of code depending on whether a given cond'n is true or false.\n",
        "\n",
        "\n",
        "\n",
        "   12.  How does the elif statement work ?\n",
        "   ->   the elif word which stands for 'else if'. It can be used in conditional statements to check for multiple conditions.e.g if first condition is false, it moves on to next 'elif' statement to check if that condition is true.\n",
        "\n",
        "\n",
        "\n",
        "   13.  What is the difference between for and while loops ?\n",
        "   ->   for loop - is designed for iterating over sequences like lists, tuples, strings or other iterable objects where no of iterations is determined by length of the iterable.\n",
        "         it automatically handles the iteration process, assigning each element of sequence to a loop variable in turn.\n",
        "         \n",
        "   ->   while loop- it is designed for repeating a block of code as long as a specific condition remains true. no of iterations is not typically known beforehand and depends on the condition.\n",
        "         it repeatedly evaluates a condition, and if the condition is true, the code block inside the loop is executed until the condition becomes false.\n",
        "\n",
        "\n",
        "\n",
        "\n",
        "\n",
        "    14.  Describe a scenario where a while loop is more suitable than a for loop.\n",
        "   ->   when the no of iterations is not known in advance, and you want to repeat a task until a condition becomes false.\n",
        "\n",
        "\n",
        "\n",
        "\n",
        "\n",
        "\n",
        "  \n"
      ],
      "metadata": {
        "id": "ppOl7WDuAR51"
      }
    },
    {
      "cell_type": "code",
      "source": [
        "user_input = \"\"\n",
        "while user_input != \"exit\":\n",
        "  user_input = input(\"type 'exit' to stop:\")"
      ],
      "metadata": {
        "id": "bFgEq0TrxGib"
      },
      "execution_count": null,
      "outputs": []
    },
    {
      "cell_type": "markdown",
      "source": [
        "# practical questions"
      ],
      "metadata": {
        "id": "AdLaHA0aydFf"
      }
    },
    {
      "cell_type": "markdown",
      "source": [
        "    1. : Write a Python program to print \"Hello, World!\"\n"
      ],
      "metadata": {
        "id": "WPsKo-ib2k76"
      }
    },
    {
      "cell_type": "code",
      "source": [
        "print(\"Hello, World!\")"
      ],
      "metadata": {
        "colab": {
          "base_uri": "https://localhost:8080/"
        },
        "id": "ExD1j-cb3nmE",
        "outputId": "b6610da2-5166-4655-b7b3-7f5411be7e29"
      },
      "execution_count": null,
      "outputs": [
        {
          "output_type": "stream",
          "name": "stdout",
          "text": [
            "Hello, World!\n"
          ]
        }
      ]
    },
    {
      "cell_type": "markdown",
      "source": [
        "2.  Write a Python program that displays your name and age\n"
      ],
      "metadata": {
        "id": "O6cIeYaL33dt"
      }
    },
    {
      "cell_type": "code",
      "source": [
        "name = \"Sahil Nanaso Torane\"\n",
        "age = 21\n",
        "print(\"My name is\", name)\n",
        "print(\"my age is\", age)"
      ],
      "metadata": {
        "colab": {
          "base_uri": "https://localhost:8080/"
        },
        "id": "atqyyRU64F_e",
        "outputId": "bff50e8c-7922-4c19-ebd7-a75b88f0fe3f"
      },
      "execution_count": null,
      "outputs": [
        {
          "output_type": "stream",
          "name": "stdout",
          "text": [
            "My name is Sahil Nanaso Torane\n",
            "my age is 21\n"
          ]
        }
      ]
    },
    {
      "cell_type": "markdown",
      "source": [
        "3.  Write code to print all the pre-defined keywords in Python using the keyword library.\n"
      ],
      "metadata": {
        "id": "ilp32YH04Yxf"
      }
    },
    {
      "cell_type": "code",
      "source": [
        "import keyword\n",
        "\n",
        "# Get the list of all keywords\n",
        "python_keywords = keyword.kwlist\n",
        "\n",
        "# print each keyword\n",
        "print(python_keywords)"
      ],
      "metadata": {
        "colab": {
          "base_uri": "https://localhost:8080/"
        },
        "id": "hX_JUnvR4sw5",
        "outputId": "c940fbc7-baed-47ed-cf70-774c7bf205ec"
      },
      "execution_count": null,
      "outputs": [
        {
          "output_type": "stream",
          "name": "stdout",
          "text": [
            "['False', 'None', 'True', 'and', 'as', 'assert', 'async', 'await', 'break', 'class', 'continue', 'def', 'del', 'elif', 'else', 'except', 'finally', 'for', 'from', 'global', 'if', 'import', 'in', 'is', 'lambda', 'nonlocal', 'not', 'or', 'pass', 'raise', 'return', 'try', 'while', 'with', 'yield']\n"
          ]
        }
      ]
    },
    {
      "cell_type": "markdown",
      "source": [
        "4.  Write a program that checks if a given word is a Python keyword.\n",
        "\n"
      ],
      "metadata": {
        "id": "pJdamreU5lYH"
      }
    },
    {
      "cell_type": "code",
      "source": [
        "import keyword\n",
        "word = input(\"from\")\n",
        "if keyword. iskeyword(word):\n",
        "  print(f\"'{word}' is a python keyword\")\n"
      ],
      "metadata": {
        "colab": {
          "base_uri": "https://localhost:8080/"
        },
        "id": "wZzFZbvn6Hka",
        "outputId": "8e965f30-89e0-41ab-e515-99130339c447"
      },
      "execution_count": null,
      "outputs": [
        {
          "name": "stdout",
          "output_type": "stream",
          "text": [
            "from from \n"
          ]
        }
      ]
    },
    {
      "cell_type": "markdown",
      "source": [
        "5. 5. Create a list and tuple in Python, and demonstrate how attempting to change an element works differently\n",
        "for each."
      ],
      "metadata": {
        "id": "pj-WuOT77_tB"
      }
    },
    {
      "cell_type": "code",
      "source": [
        "my_list = [1, 2, 3]\n",
        "my_tuple = (1, 2, 3)\n",
        "\n",
        "# Modifying list\n",
        "my_list[0] = 10\n",
        "print(\"Modified list:\", my_list)\n",
        "\n",
        "# Trying to modify tuple\n",
        "try:\n",
        "  my_tuple[0] = 10\n",
        "  except TypeError as e:\n",
        "    print(\"Error\")\n",
        "    print(\"Tuple is immutable\")\n"
      ],
      "metadata": {
        "id": "1l7sPMSaJ8jt"
      },
      "execution_count": null,
      "outputs": []
    },
    {
      "cell_type": "markdown",
      "source": [
        "6. 6. Write a function to demonstrate the behavior of mutable and immutable arguments."
      ],
      "metadata": {
        "id": "9XXHYg8nCc6J"
      }
    },
    {
      "cell_type": "code",
      "source": [
        "def modify_list(1st):\n",
        "  1st.append(4)\n",
        "\n",
        "  def modify_string(s):\n",
        "    s += \"world\"\n",
        "    my_list = [1, 2, 3]\n",
        "    my _string = \"hello\"\n",
        "\n",
        "    modify_list(my_list)\n",
        "    print(\"modified list:\", my_list)\n",
        "\n",
        "    modify_string(my_string)\n",
        "    print(\"String after function call:\", my_string)"
      ],
      "metadata": {
        "id": "Vo4HrRe7ImXl"
      },
      "execution_count": null,
      "outputs": []
    },
    {
      "cell_type": "markdown",
      "source": [
        "   7. 7. Write a program that performs basic arithmetic operations on two user-input numbers."
      ],
      "metadata": {
        "id": "MqcjkYETDUmU"
      }
    },
    {
      "cell_type": "code",
      "source": [
        "# Addition of two numbers\n",
        "a = 20\n",
        "b = 10\n",
        "print(a+b)\n",
        "\n",
        "# Subtraction of two numbers\n",
        "print(a-b)\n",
        "\n",
        "# Multiplication of two numbers\n",
        "print(a*b)\n",
        "\n",
        "# Division of two numbers\n",
        "print(a/b)\n",
        "\n",
        "# Modulus\n",
        "print(a%b)"
      ],
      "metadata": {
        "colab": {
          "base_uri": "https://localhost:8080/"
        },
        "id": "HGodVnifGf15",
        "outputId": "ff52aa46-be2f-4125-c947-5a7b370e4d84"
      },
      "execution_count": null,
      "outputs": [
        {
          "output_type": "stream",
          "name": "stdout",
          "text": [
            "30\n",
            "10\n",
            "200\n",
            "2.0\n",
            "0\n"
          ]
        }
      ]
    },
    {
      "cell_type": "markdown",
      "source": [
        "   8.  Write a program to demonstrate the use of logical operators.\n"
      ],
      "metadata": {
        "id": "oOrzuqubHWSe"
      }
    },
    {
      "cell_type": "code",
      "source": [
        "a = 20\n",
        "b = 10\n",
        "print(a==b)\n",
        "print(a!=b)\n",
        "print(a>b)\n",
        "print(a<b)\n",
        "print(a>=b)\n",
        "print(a<=b)\n"
      ],
      "metadata": {
        "colab": {
          "base_uri": "https://localhost:8080/"
        },
        "id": "63FBdkGzHg8W",
        "outputId": "57a4126a-9b52-4d40-dc98-c132c8364bb0"
      },
      "execution_count": null,
      "outputs": [
        {
          "output_type": "stream",
          "name": "stdout",
          "text": [
            "False\n",
            "True\n",
            "True\n",
            "False\n",
            "True\n",
            "False\n"
          ]
        }
      ]
    },
    {
      "cell_type": "markdown",
      "source": [
        "   9. Write a Python program to convert user input from string to integer, float, and boolean types."
      ],
      "metadata": {
        "id": "yA-EmyuaLevD"
      }
    },
    {
      "cell_type": "code",
      "source": [
        "user_input = input(\"Enter a number:\")\n",
        "\n",
        "int_val = int(user_input)\n",
        "float_val = float(user_input)\n",
        "bool_val = bool(user_input)\n",
        "\n",
        "print(\"Integer:\" , int_value)\n",
        "print(\"Float:\" , float_value)\n",
        "print(\"Boolean:\", bool_value)"
      ],
      "metadata": {
        "id": "Z1NK8l-mDyMX"
      },
      "execution_count": null,
      "outputs": []
    },
    {
      "cell_type": "markdown",
      "source": [
        "   10 .  Write code to demonstrate type casting with list elements."
      ],
      "metadata": {
        "id": "wPvMo1xTD0Iz"
      }
    },
    {
      "cell_type": "code",
      "source": [
        "str_list = [\"1\", \"2\", \"3\"]\n",
        "int_list = list(map(int, str_list))\n",
        "print(\"List of integers:\", int_list)"
      ],
      "metadata": {
        "id": "k78s9aJxD-M8"
      },
      "execution_count": null,
      "outputs": []
    },
    {
      "cell_type": "markdown",
      "source": [
        " 11.  Write a program that checks if a number is positive, negative, or zero."
      ],
      "metadata": {
        "id": "_qYcyjiKEp3q"
      }
    },
    {
      "cell_type": "code",
      "source": [
        "num = float(input(\"Enter a number: \"))\n",
        "if num > 0:\n",
        "  print(\"The number is positive\")\n",
        "  elif num < 0:\n",
        "    print(\"The number is negative\")\n",
        "    else\n",
        "    print(\"The number is zero\")"
      ],
      "metadata": {
        "id": "_mB6qAAlEz37"
      },
      "execution_count": null,
      "outputs": []
    },
    {
      "cell_type": "markdown",
      "source": [
        "  12.  Write a for loop to print numbers from 1 to 10."
      ],
      "metadata": {
        "id": "OtN1ArvAFpHr"
      }
    },
    {
      "cell_type": "code",
      "source": [
        "for i in range(1, 11):\n",
        "  print(i)"
      ],
      "metadata": {
        "id": "xdtKOSW1FwKL"
      },
      "execution_count": null,
      "outputs": []
    },
    {
      "cell_type": "markdown",
      "source": [
        "  13.  Write a Python program to find the sum of all even numbers between 1 and 50."
      ],
      "metadata": {
        "id": "-mEol-c0F91Z"
      }
    },
    {
      "cell_type": "code",
      "source": [
        "total = 0\n",
        "for i in range(1, 51):\n",
        "  if i % 2 ==0:\n",
        "    total += i\n",
        "    print(\"Sum of even numbers from 1 to 50:\", total)"
      ],
      "metadata": {
        "id": "g4e8KZxzGGbS"
      },
      "execution_count": null,
      "outputs": []
    },
    {
      "cell_type": "markdown",
      "source": [
        "  14.  Write a program to reverse a string using a while loop.\n"
      ],
      "metadata": {
        "id": "L2B7ZszpGlJj"
      }
    },
    {
      "cell_type": "code",
      "source": [
        "string = input(\"Enter a string:\")\n",
        "reversed_string = \"\"\n",
        "i = len(string) - 1\n",
        "while i >=0:\n",
        "  reversed_string +=string[i]\n",
        "  i -= 1\n",
        "  print(\"Reversed string:\", reversed_string)"
      ],
      "metadata": {
        "id": "2WGm5s4xGtWi"
      },
      "execution_count": null,
      "outputs": []
    },
    {
      "cell_type": "markdown",
      "source": [
        "  15.  Write a Python program to calculate the factorial of a number provided by the user using a while loop."
      ],
      "metadata": {
        "id": "28qyQK8XHZqx"
      }
    },
    {
      "cell_type": "code",
      "source": [
        "# Get input from the user\n",
        "num = int(input(\"Enter a number:\"))\n",
        "# Initialize variables\n",
        "factorial = 1\n",
        "i = 1\n",
        "# Calculate factorial using a while loop\n",
        "while i < num:\n",
        "  factorial *= i\n",
        "  i += 1\n",
        "  print(f\"The factorail of {num} is {factorial}\")"
      ],
      "metadata": {
        "id": "OioBIpUCHp7Z"
      },
      "execution_count": null,
      "outputs": []
    }
  ]
}